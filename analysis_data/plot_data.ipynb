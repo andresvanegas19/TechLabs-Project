{
 "cells": [
  {
   "cell_type": "markdown",
   "metadata": {},
   "source": [
    "# Analisis datos mediante el timpo\n",
    "\n",
    "Los primeros datos se mostraran como a avanzado la salud mental desde el 2016 hasta el dia de hoy\n"
   ]
  },
  {
   "cell_type": "code",
   "execution_count": 44,
   "metadata": {
    "pycharm": {
     "name": "#%%\n"
    }
   },
   "outputs": [],
   "source": [
    "import numpy as np\n",
    "import pandas as pd\n",
    "import matplotlib.pyplot as plt\n",
    "import seaborn as sns"
   ]
  },
  {
   "cell_type": "code",
   "execution_count": 38,
   "metadata": {
    "pycharm": {
     "name": "#%%\n"
    }
   },
   "outputs": [
    {
     "name": "stdout",
     "output_type": "stream",
     "text": [
      "> Country\n",
      "> Year\n",
      "> Government expenditures on mental hospitals as a percentage of total government expenditures on mental health (%)\n",
      "> Stand-alone law for mental health\n",
      "> Year the law was enacted (latest revision)\n",
      "> Stand-alone policy or plan for mental health\n",
      "> Publication year of the policy or plan (latest revision)\n"
     ]
    }
   ],
   "source": [
    "df = pd.read_csv('./data_health/dataforwho.csv')\n",
    "for p in df.columns:\n",
    "    print('>', p)"
   ]
  },
  {
   "cell_type": "code",
   "execution_count": null,
   "outputs": [],
   "source": [
    "df.head()"
   ],
   "metadata": {
    "collapsed": false,
    "pycharm": {
     "name": "#%%\n"
    }
   }
  },
  {
   "cell_type": "code",
   "execution_count": null,
   "outputs": [],
   "source": [
    "# change the name of the columns\n",
    "result = df.rename(columns={'Government expenditures on mental hospitals as a percentage of total government expenditures on mental health (%)':\n",
    "                            'government_investment'})\n",
    "# this is for select only\n",
    "co = result.dropna(subset=['government_investment'], how='all')\n",
    "contribution = co[['Country', 'government_investment']]\n",
    "# select just the 10 most contribution \n",
    "most_contribution = contribution.sort_values('government_investment',ascending=False).head(10)\n"
   ],
   "metadata": {
    "collapsed": false,
    "pycharm": {
     "name": "#%%\n"
    }
   }
  },
  {
   "cell_type": "markdown",
   "source": [
    "## This show which countrys were the ones who contributed the most"
   ],
   "metadata": {
    "collapsed": false
   }
  },
  {
   "cell_type": "code",
   "execution_count": null,
   "outputs": [],
   "source": [
    "plt.figure(figsize=(14,8))\n",
    "co = sns.barplot(\n",
    "    x = 'Country', \n",
    "    y = 'government_investment', \n",
    "    data = most_contribution, \n",
    "    palette = 'Blues')\n",
    "co.axes.set_title(\"Most government investment\",fontsize=30)\n",
    "a = co.set_xticklabels(co.get_xticklabels(), rotation=390, horizontalalignment='right')\n",
    "fig = co.get_figure()\n",
    "fig.savefig('graphics/gob_invest')\n"
   ],
   "metadata": {
    "collapsed": false,
    "pycharm": {
     "name": "#%%\n"
    }
   }
  },
  {
   "cell_type": "markdown",
   "source": [
    "## This show how throth the time the invest is increased"
   ],
   "metadata": {
    "collapsed": false
   }
  },
  {
   "cell_type": "code",
   "execution_count": null,
   "outputs": [],
   "source": [
    "re = df.rename(columns={'Government expenditures on mental hospitals as a percentage of total government expenditures on mental health (%)':\n",
    "                            'government_investment'}) \n",
    "total_inv = re.groupby(['Year'])['government_investment'].sum().reset_index().hist(bins=100)\n",
    "total_inv"
   ],
   "metadata": {
    "collapsed": false,
    "pycharm": {
     "name": "#%%\n"
    }
   }
  },
  {
   "cell_type": "code",
   "execution_count": 87,
   "metadata": {},
   "outputs": [
    {
     "data": {
      "text/html": [
       "<div>\n",
       "<style scoped>\n",
       "    .dataframe tbody tr th:only-of-type {\n",
       "        vertical-align: middle;\n",
       "    }\n",
       "\n",
       "    .dataframe tbody tr th {\n",
       "        vertical-align: top;\n",
       "    }\n",
       "\n",
       "    .dataframe thead th {\n",
       "        text-align: right;\n",
       "    }\n",
       "</style>\n",
       "<table border=\"1\" class=\"dataframe\">\n",
       "  <thead>\n",
       "    <tr style=\"text-align: right;\">\n",
       "      <th></th>\n",
       "      <th>Country</th>\n",
       "      <th>Year</th>\n",
       "      <th>Government expenditures on mental hospitals as a percentage of total government expenditures on mental health (%)</th>\n",
       "      <th>Stand-alone law for mental health</th>\n",
       "      <th>Year the law was enacted (latest revision)</th>\n",
       "      <th>Stand-alone policy or plan for mental health</th>\n",
       "      <th>Publication year of the policy or plan (latest revision)</th>\n",
       "    </tr>\n",
       "  </thead>\n",
       "  <tbody>\n",
       "    <tr>\n",
       "      <th>0</th>\n",
       "      <td>Afghanistan</td>\n",
       "      <td>2016</td>\n",
       "      <td>NaN</td>\n",
       "      <td>Yes</td>\n",
       "      <td>1987</td>\n",
       "      <td>Yes</td>\n",
       "      <td>2016.0</td>\n",
       "    </tr>\n",
       "    <tr>\n",
       "      <th>1</th>\n",
       "      <td>Afghanistan</td>\n",
       "      <td>2014</td>\n",
       "      <td>NaN</td>\n",
       "      <td>Yes</td>\n",
       "      <td>NaN</td>\n",
       "      <td>Yes</td>\n",
       "      <td>NaN</td>\n",
       "    </tr>\n",
       "    <tr>\n",
       "      <th>2</th>\n",
       "      <td>Albania</td>\n",
       "      <td>2016</td>\n",
       "      <td>NaN</td>\n",
       "      <td>Yes</td>\n",
       "      <td>2012</td>\n",
       "      <td>Yes</td>\n",
       "      <td>2013.0</td>\n",
       "    </tr>\n",
       "    <tr>\n",
       "      <th>3</th>\n",
       "      <td>Albania</td>\n",
       "      <td>2014</td>\n",
       "      <td>NaN</td>\n",
       "      <td>Yes</td>\n",
       "      <td>NaN</td>\n",
       "      <td>Yes</td>\n",
       "      <td>NaN</td>\n",
       "    </tr>\n",
       "    <tr>\n",
       "      <th>4</th>\n",
       "      <td>Algeria</td>\n",
       "      <td>2016</td>\n",
       "      <td>NaN</td>\n",
       "      <td>Yes</td>\n",
       "      <td>1905</td>\n",
       "      <td>No</td>\n",
       "      <td>NaN</td>\n",
       "    </tr>\n",
       "  </tbody>\n",
       "</table>\n",
       "</div>"
      ],
      "text/plain": [
       "       Country  Year  \\\n",
       "0  Afghanistan  2016   \n",
       "1  Afghanistan  2014   \n",
       "2      Albania  2016   \n",
       "3      Albania  2014   \n",
       "4      Algeria  2016   \n",
       "\n",
       "   Government expenditures on mental hospitals as a percentage of total government expenditures on mental health (%)  \\\n",
       "0                                                NaN                                                                   \n",
       "1                                                NaN                                                                   \n",
       "2                                                NaN                                                                   \n",
       "3                                                NaN                                                                   \n",
       "4                                                NaN                                                                   \n",
       "\n",
       "  Stand-alone law for mental health  \\\n",
       "0                               Yes   \n",
       "1                               Yes   \n",
       "2                               Yes   \n",
       "3                               Yes   \n",
       "4                               Yes   \n",
       "\n",
       "  Year the law was enacted (latest revision)  \\\n",
       "0                                       1987   \n",
       "1                                        NaN   \n",
       "2                                       2012   \n",
       "3                                        NaN   \n",
       "4                                       1905   \n",
       "\n",
       "  Stand-alone policy or plan for mental health  \\\n",
       "0                                          Yes   \n",
       "1                                          Yes   \n",
       "2                                          Yes   \n",
       "3                                          Yes   \n",
       "4                                           No   \n",
       "\n",
       "   Publication year of the policy or plan (latest revision)  \n",
       "0                                             2016.0         \n",
       "1                                                NaN         \n",
       "2                                             2013.0         \n",
       "3                                                NaN         \n",
       "4                                                NaN         "
      ]
     },
     "execution_count": 87,
     "metadata": {},
     "output_type": "execute_result"
    }
   ],
   "source": []
  },
  {
   "cell_type": "code",
   "execution_count": 67,
   "metadata": {},
   "outputs": [],
   "source": [
    "# change the name of the columns\n",
    "result = df.rename(columns={'Government expenditures on mental hospitals as a percentage of total government expenditures on mental health (%)':\n",
    "                            'government_investment'})\n",
    "# this is for select only\n",
    "co = result.dropna(subset=['government_investment'], how='all')\n",
    "contribution = co[['Country', 'government_investment']]\n",
    "# select just the 10 most contribution \n",
    "most_contribution = contribution.sort_values('government_investment',ascending=False).head(10)\n"
   ]
  },
  {
   "cell_type": "markdown",
   "metadata": {},
   "source": [
    "## This show which countrys were the ones who contributed the most"
   ]
  },
  {
   "cell_type": "code",
   "execution_count": 74,
   "metadata": {},
   "outputs": [
    {
     "data": {
      "image/png": "[encoded data removed]",
      "text/plain": [
       "<Figure size 1008x576 with 1 Axes>"
      ]
     },
     "metadata": {
      "needs_background": "light"
     },
     "output_type": "display_data"
    }
   ],
   "source": [
    "plt.figure(figsize=(14,8))\n",
    "co = sns.barplot(\n",
    "    x = 'Country', \n",
    "    y = 'government_investment', \n",
    "    data = most_contribution, \n",
    "    palette = 'Blues')\n",
    "co.axes.set_title(\"Most government investment\",fontsize=30)\n",
    "a = co.set_xticklabels(co.get_xticklabels(), rotation=390, horizontalalignment='right')\n",
    "fig = co.get_figure()\n",
    "fig.savefig('graphics/gob_invest')\n"
   ]
  },
  {
   "cell_type": "markdown",
   "metadata": {},
   "source": [
    "## This show how throth the time the invest is increased"
   ]
  },
  {
   "cell_type": "code",
   "execution_count": 90,
   "metadata": {},
   "outputs": [
    {
     "data": {
      "text/plain": [
       "array([[<matplotlib.axes._subplots.AxesSubplot object at 0x7ff4a4473f10>,\n",
       "        <matplotlib.axes._subplots.AxesSubplot object at 0x7ff4a2518c50>]],\n",
       "      dtype=object)"
      ]
     },
     "execution_count": 90,
     "metadata": {},
     "output_type": "execute_result"
    },
    {
     "data": {
      "image/png": "[encoded data removed]",
      "text/plain": [
       "<Figure size 432x288 with 2 Axes>"
      ]
     },
     "metadata": {
      "needs_background": "light"
     },
     "output_type": "display_data"
    }
   ],
   "source": [
    "re = df.rename(columns={'Government expenditures on mental hospitals as a percentage of total government expenditures on mental health (%)':\n",
    "                            'government_investment'}) \n",
    "total_inv = re.groupby(['Year'])['government_investment'].sum().reset_index().hist(bins=100)\n",
    "total_inv"
   ]
  },
  {
   "cell_type": "code",
   "execution_count": null,
   "metadata": {},
   "outputs": [],
   "source": []
  }
 ],
 "metadata": {
  "kernelspec": {
   "display_name": "Python 3",
   "language": "python",
   "name": "python3"
  },
  "language_info": {
   "codemirror_mode": {
    "name": "ipython",
    "version": 3
   },
   "file_extension": ".py",
   "mimetype": "text/x-python",
   "name": "python",
   "nbconvert_exporter": "python",
   "pygments_lexer": "ipython3",
   "version": "3.7.6"
  }
 },
 "nbformat": 4,
 "nbformat_minor": 1
}