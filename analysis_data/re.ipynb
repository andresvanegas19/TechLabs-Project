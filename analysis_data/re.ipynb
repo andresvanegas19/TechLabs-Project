{
 "cells": [
  {
   "cell_type": "code",
   "execution_count": 44,
   "metadata": {},
   "outputs": [],
   "source": [
    "from script import get_info\n",
    "import requests\n",
    "from newsapi import NewsApiClient\n",
    "from translate import Translator"
   ]
  },
  {
   "cell_type": "code",
   "execution_count": 46,
   "metadata": {},
   "outputs": [],
   "source": [
    "permissions_face = 'EAAI5xneADUoBADeZASZA14FZCoofbwbLII5DpvBMa6lJLZBivbA4zot8RmnPagZAD3gAfu696PEcDc7EhYKd2MVdoZBcCXblVtAzZA1DcBtA2ckCXZCxvXZCj8wZBrVgTRxL26OxCbgP1bAdaIjNQLZCbZBrmMzZBj0UhnMlZBRKQ0jUBgdydWSNgPvapHGx6QOcFnMxsZD'\n",
    "newsapi = NewsApiClient(api_key='')"
   ]
  },
  {
   "cell_type": "code",
   "execution_count": 54,
   "metadata": {
    "scrolled": true
   },
   "outputs": [],
   "source": [
    "a = get_info(permissions_face)"
   ]
  },
  {
   "cell_type": "code",
   "execution_count": 48,
   "metadata": {},
   "outputs": [
    {
     "data": {
      "text/plain": [
       "['Musician / band',\n",
       " 'Blog',\n",
       " 'Video maker',\n",
       " 'Periodic',\n",
       " 'Media / news',\n",
       " 'Video maker',\n",
       " 'Artist',\n",
       " 'Media / news',\n",
       " 'Public Figure',\n",
       " 'Food and beverage company',\n",
       " 'Bar',\n",
       " 'Public Figure',\n",
       " 'Artist',\n",
       " 'Label',\n",
       " 'Musician / band',\n",
       " 'Fun',\n",
       " 'Video maker',\n",
       " 'Artist',\n",
       " 'Public Figure',\n",
       " 'Periodic',\n",
       " 'Media / news',\n",
       " 'Musician / band']"
      ]
     },
     "execution_count": 48,
     "metadata": {},
     "output_type": "execute_result"
    }
   ],
   "source": [
    "from translate import Translator\n",
    "translator= Translator(from_lang=\"spanish\",to_lang=\"english\")\n",
    "# translate the words\n",
    "translation = [translator.translate(word) for word in get_info(permissions_face)]\n",
    "translation"
   ]
  },
  {
   "cell_type": "code",
   "execution_count": 59,
   "metadata": {
    "scrolled": false
   },
   "outputs": [
    {
     "name": "stdout",
     "output_type": "stream",
     "text": [
      "Every musician is basically a YouTuber now\n",
      "Listen to Daniel Johnston's tragically beautiful cover of Carole King's \"You've Got a Friend\"\n",
      "Gorgeous new song by DC's Beauty Pill\n",
      "Tony Allen, legendary drummer and Afrobeat co-founder, dies aged 70\n",
      "The Magnificent One: how Little Richard's style shaped David Bowie, Prince and Elton John\n",
      "Band To Watch: Silverbacks\n",
      "There's actually an interesting (and obsessive) story behind Wheatus's \"Teenage Dirtbag\"\n",
      "Michael Connelly's imaginary Blue Note albums\n",
      "Listen to Green Day's Billy Joe Armstrong rock \"Kids in America\" by Kim Wilde\n",
      "Bucky Baxter, Pedal Steel Great Who Toured With Bob Dylan, Dead at 65\n"
     ]
    },
    {
     "data": {
      "text/plain": [
       "440"
      ]
     },
     "execution_count": 59,
     "metadata": {},
     "output_type": "execute_result"
    }
   ],
   "source": [
    "name_art = []\n",
    "for word in translation:\n",
    "    all_articles = newsapi.get_everything(q=word, language='en')\n",
    "    for article in all_articles['articles']:\n",
    "        name_art.append(article['title'])\n",
    "for num in range(10):\n",
    "    print(name_art[num])\n",
    "# print just ten heads of newspaper\n",
    "len(name_art)"
   ]
  },
  {
   "cell_type": "code",
   "execution_count": null,
   "metadata": {},
   "outputs": [],
   "source": []
  }
 ],
 "metadata": {
  "kernelspec": {
   "display_name": "Python 3",
   "language": "python",
   "name": "python3"
  },
  "language_info": {
   "codemirror_mode": {
    "name": "ipython",
    "version": 3
   },
   "file_extension": ".py",
   "mimetype": "text/x-python",
   "name": "python",
   "nbconvert_exporter": "python",
   "pygments_lexer": "ipython3",
   "version": "3.7.6"
  }
 },
 "nbformat": 4,
 "nbformat_minor": 1
}