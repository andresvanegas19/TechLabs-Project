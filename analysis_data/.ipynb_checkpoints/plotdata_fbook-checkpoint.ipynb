{
 "cells": [
  {
   "cell_type": "markdown",
   "metadata": {
    "collapsed": true
   },
   "source": [
    "# This will show the scrapping into the web\n"
   ]
  },
  {
   "cell_type": "markdown",
   "metadata": {},
   "source": [
    "## Into facebook and instagram"
   ]
  },
  {
   "cell_type": "code",
   "execution_count": 2,
   "metadata": {},
   "outputs": [],
   "source": [
    "import facebook\n",
    "from pandas import DataFrame\n",
    "import matplotlib.pyplot as plt"
   ]
  },
  {
   "cell_type": "code",
   "execution_count": 3,
   "metadata": {},
   "outputs": [],
   "source": [
    "token = 'EAAI5xneADUoBAE2hMpbpZCOYl4JJtVl83yjX8Yk1YrjhgDM730PVBFWlMNKgpzKAyZBcXcYI1Lxu83edDZBPpzMQj9RDLH3GQfNZAY2TGdW5eBnJIPk186PZBfAnYoQJcwWosUv8ZCt5312mY0hssAYVf5481EqW9V2tQqP6I0tem1fdKDhRAn0uOTiMIKQ10ZD'"
   ]
  },
  {
   "cell_type": "code",
   "execution_count": 35,
   "metadata": {},
   "outputs": [
    {
     "data": {
      "text/plain": [
       "Counter({'352329221786932': 1,\n",
       "         '1378350049065059': 1,\n",
       "         '1339821916158848': 1,\n",
       "         '119649972773539': 1,\n",
       "         '131121375910': 1,\n",
       "         '216062911010': 1,\n",
       "         '947623412052831': 1,\n",
       "         '146719898821067': 1,\n",
       "         '151460955465650': 1,\n",
       "         '1598917573713113': 1,\n",
       "         '109049436503007': 1,\n",
       "         '282438115602469': 1,\n",
       "         '1566378310067854': 1,\n",
       "         '139576440757': 1,\n",
       "         '145145142199471': 1,\n",
       "         '123035108357299': 1,\n",
       "         '160665307320292': 1,\n",
       "         '8323943747': 1,\n",
       "         '345073112497292': 1,\n",
       "         '379582832248898': 1,\n",
       "         '387265694644507': 1,\n",
       "         '121136128526178': 1,\n",
       "         '328426627537429': 1,\n",
       "         '461476947564033': 1,\n",
       "         '164981524033528': 1,\n",
       "         '148349507804': 1,\n",
       "         '66336374178': 1,\n",
       "         '815694701829339': 1,\n",
       "         '1219452244786603': 1,\n",
       "         '1914905918721754': 1,\n",
       "         '946751565420734': 1,\n",
       "         '1305950942801849': 1,\n",
       "         '1495099200796811': 1,\n",
       "         '627350287399886': 1,\n",
       "         '1856358204611658': 1,\n",
       "         '333601110368423': 1,\n",
       "         '776663642469084': 1,\n",
       "         '880416308661739': 1,\n",
       "         '1463231580575733': 1,\n",
       "         '343888205647657': 1,\n",
       "         '152350958265633': 1,\n",
       "         '440577952805690': 1,\n",
       "         '662086153850744': 1,\n",
       "         '219343232283': 1,\n",
       "         '155721711279593': 1,\n",
       "         '773094606119708': 1,\n",
       "         '855133104509746': 1,\n",
       "         '102886746417877': 1,\n",
       "         '794024704009780': 1,\n",
       "         '149360941771672': 1,\n",
       "         '225874137447967': 1,\n",
       "         '6209079710': 1,\n",
       "         '105045266286428': 1,\n",
       "         '449657210522': 1,\n",
       "         '106048509488671': 1,\n",
       "         '144979575541202': 1,\n",
       "         '189722027758125': 1,\n",
       "         '101691936575421': 1,\n",
       "         '25650640844': 1,\n",
       "         '481642995230558': 1,\n",
       "         '19366141168': 1,\n",
       "         '516726535059749': 1,\n",
       "         '162615077123661': 1,\n",
       "         '168223870028997': 1,\n",
       "         '183718825061906': 1,\n",
       "         '62309496693': 1,\n",
       "         '26435256798': 1,\n",
       "         '641547472579129': 1,\n",
       "         '93040704026': 1,\n",
       "         '6564142497': 1,\n",
       "         '584788478201956': 1,\n",
       "         '334088133283589': 1,\n",
       "         '100484820802': 1,\n",
       "         '119702488081975': 1,\n",
       "         '167767896594991': 1,\n",
       "         '371148641977': 1,\n",
       "         '7914733474': 1,\n",
       "         '21295715752': 1,\n",
       "         '209202379103182': 1,\n",
       "         '128736953870726': 1,\n",
       "         '136229538277': 1,\n",
       "         '291729159657': 1,\n",
       "         '316434631716384': 1,\n",
       "         '25463669118': 1,\n",
       "         '110942798965973': 1,\n",
       "         '17774451468': 1,\n",
       "         '84917688371': 1,\n",
       "         '16547831022': 1,\n",
       "         '14148540817': 1,\n",
       "         '9588466619': 1})"
      ]
     },
     "execution_count": 35,
     "metadata": {},
     "output_type": "execute_result"
    }
   ],
   "source": [
    "from collections import Counter\n",
    "graph = facebook.GraphAPI(token)\n",
    "profile = graph.get_object('me',fields='likes.limit(100){artists_we_like}')\n",
    "\n",
    "fan_page = [profile['likes']['data'][num]['id'] for num in range(len(profile['likes']['data']))]\n",
    "\n",
    "fan_page"
   ]
  },
  {
   "cell_type": "code",
   "execution_count": null,
   "metadata": {},
   "outputs": [],
   "source": []
  }
 ],
 "metadata": {
  "kernelspec": {
   "display_name": "Python 3",
   "language": "python",
   "name": "python3"
  },
  "language_info": {
   "codemirror_mode": {
    "name": "ipython",
    "version": 3
   },
   "file_extension": ".py",
   "mimetype": "text/x-python",
   "name": "python",
   "nbconvert_exporter": "python",
   "pygments_lexer": "ipython3",
   "version": "3.7.3"
  }
 },
 "nbformat": 4,
 "nbformat_minor": 1
}
