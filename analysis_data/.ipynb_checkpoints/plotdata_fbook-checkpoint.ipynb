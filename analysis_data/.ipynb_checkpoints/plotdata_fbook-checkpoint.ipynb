{
 "cells": [
  {
   "cell_type": "markdown",
   "metadata": {
    "collapsed": true
   },
   "source": [
    "# This will show the scrapping into the web\n"
   ]
  },
  {
   "cell_type": "markdown",
   "metadata": {},
   "source": [
    "## Into facebook and instagram"
   ]
  },
  {
   "cell_type": "code",
   "execution_count": 4,
   "metadata": {},
   "outputs": [],
   "source": [
    "import facebook\n",
    "from pandas import DataFrame\n",
    "import matplotlib.pyplot as plt"
   ]
  },
  {
   "cell_type": "code",
   "execution_count": 47,
   "metadata": {},
   "outputs": [],
   "source": [
    "token = 'EAAI5xneADUoBAPB2HHoUXKwqHTP3ebQyjuD0Aispjc7JFuPh12zFdzSfTQh0g3DykicVMf8bXWwDHFJMCHEklWRW0WTT8VyOvDnLYiWqbiq1Diijjng1Qd1ZAknXFSrvkZBxnfLmKqE9BYRW0ODQWUk9XfAu3ZAhs0Rsl5zSNgqswr3RjZCxljk2BMz7cGh6q5fru4lm3jI6XMLiKYxKcqZBD2IAW3v0ZA7Xc0QPOtfAZDZD'"
   ]
  },
  {
   "cell_type": "code",
   "execution_count": 54,
   "metadata": {},
   "outputs": [
    {
     "data": {
      "text/plain": [
       "['352329221786932',\n",
       " '1378350049065059',\n",
       " '1339821916158848',\n",
       " '119649972773539',\n",
       " '131121375910',\n",
       " '216062911010',\n",
       " '947623412052831',\n",
       " '146719898821067',\n",
       " '151460955465650',\n",
       " '1598917573713113',\n",
       " '109049436503007',\n",
       " '282438115602469',\n",
       " '1566378310067854',\n",
       " '139576440757',\n",
       " '145145142199471',\n",
       " '123035108357299',\n",
       " '402822549840003',\n",
       " '8323943747',\n",
       " '345073112497292',\n",
       " '379582832248898',\n",
       " '387265694644507',\n",
       " '121136128526178',\n",
       " '328426627537429',\n",
       " '461476947564033',\n",
       " '164981524033528',\n",
       " '148349507804',\n",
       " '815694701829339',\n",
       " '1219452244786603',\n",
       " '1914905918721754',\n",
       " '946751565420734',\n",
       " '1305950942801849',\n",
       " '1495099200796811',\n",
       " '627350287399886',\n",
       " '1856358204611658',\n",
       " '333601110368423',\n",
       " '776663642469084',\n",
       " '880416308661739',\n",
       " '1463231580575733',\n",
       " '343888205647657',\n",
       " '152350958265633',\n",
       " '440577952805690',\n",
       " '662086153850744',\n",
       " '219343232283',\n",
       " '155721711279593',\n",
       " '773094606119708',\n",
       " '855133104509746',\n",
       " '102886746417877',\n",
       " '110213473856895',\n",
       " '248183641886114',\n",
       " '225874137447967',\n",
       " '6209079710',\n",
       " '105045266286428',\n",
       " '449657210522',\n",
       " '106048509488671',\n",
       " '144979575541202',\n",
       " '189722027758125',\n",
       " '101691936575421',\n",
       " '25650640844',\n",
       " '481642995230558',\n",
       " '19366141168',\n",
       " '516726535059749',\n",
       " '162615077123661',\n",
       " '168223870028997',\n",
       " '183718825061906',\n",
       " '62309496693',\n",
       " '26435256798',\n",
       " '641547472579129',\n",
       " '93040704026',\n",
       " '6564142497',\n",
       " '584788478201956',\n",
       " '334088133283589',\n",
       " '100484820802',\n",
       " '119702488081975',\n",
       " '167767896594991',\n",
       " '371148641977',\n",
       " '123226554354830',\n",
       " '21295715752',\n",
       " '209202379103182',\n",
       " '128736953870726',\n",
       " '136229538277',\n",
       " '291729159657',\n",
       " '316434631716384',\n",
       " '25463669118',\n",
       " '110942798965973',\n",
       " '17774451468',\n",
       " '84917688371',\n",
       " '16547831022',\n",
       " '14148540817',\n",
       " '9588466619']"
      ]
     },
     "execution_count": 54,
     "metadata": {},
     "output_type": "execute_result"
    }
   ],
   "source": [
    "from collections import Counter\n",
    "graph = facebook.GraphAPI(token)\n",
    "profile = graph.get_object('me',fields='likes.limit(1000)')\n",
    "# {artists_we_like}\n",
    "fan_page = [profile['likes']['data'][num]['id'] for num in range(len(profile['likes']['data']))]\n",
    "fan_page"
   ]
  },
  {
   "cell_type": "markdown",
   "metadata": {},
   "source": [
    "# With likes, get a sample of some those likes"
   ]
  },
  {
   "cell_type": "markdown",
   "metadata": {},
   "source": [
    "+ It will dive into the facebook html to saw the page"
   ]
  },
  {
   "cell_type": "code",
   "execution_count": 113,
   "metadata": {},
   "outputs": [
    {
     "data": {
      "text/plain": [
       "['Blog personal', 'Figura pública', 'Diversión']"
      ]
     },
     "execution_count": 113,
     "metadata": {},
     "output_type": "execute_result"
    }
   ],
   "source": [
    "import requests\n",
    "# This is for search into the html\n",
    "from bs4 import BeautifulSoup\n",
    "# This is for the regex\n",
    "import re\n",
    "\n",
    "url = 'https://www.facebook.com/dodojournals/'\n",
    "# take a request of the url and save into the variable r\n",
    "\n",
    "webpage_response = requests.get(url)\n",
    "webpage = webpage_response.content\n",
    "soup = BeautifulSoup(webpage, \"html.parser\")\n",
    "\n",
    "# soup = soup.findAll('div', {'class' :'_4bl9'})\n",
    "# soup = soup.findAll('div', {'class' :'_4bl9'})[5]\n",
    "# href=\"/pages/category/art/\n",
    "\n",
    "#soup = soup.findAll('div', re.compile(\"_4bl9\"))\n",
    "#p = [x.text for x in soup.find_all('div', {'href': re.compile('pages/category/*')})]\n",
    "#for allz in soup.findAll(\"section\", { \"class\" : \"field-name-field-mpd-total-capacity\" }):\n",
    "#    print(allz.find(\"div\", { \"class\" : \"field-item\"}).string)\n",
    "def found_str(soup):\n",
    "    for child in soup.findAll('div', re.compile(\"_4bl9\")):\n",
    "        result = child.find_all('a', {'href': re.compile('pages/category/*')})\n",
    "        if result:\n",
    "            return result\n",
    "\n",
    "soup = found_str(soup)\n",
    "soup = soup = [word.text for word in soup]\n",
    "soup"
   ]
  },
  {
   "cell_type": "code",
   "execution_count": 72,
   "metadata": {},
   "outputs": [
    {
     "name": "stdout",
     "output_type": "stream",
     "text": [
      "True\n"
     ]
    }
   ],
   "source": [
    "import re\n",
    "\n",
    "test_string = '/pages/category/art/'\n",
    "\n",
    "matched = re.match(\"/pages/category/*\", test_string)\n",
    "is_match = bool(matched)\n",
    "\n",
    "print(is_match)"
   ]
  },
  {
   "cell_type": "code",
   "execution_count": null,
   "metadata": {},
   "outputs": [],
   "source": []
  }
 ],
 "metadata": {
  "kernelspec": {
   "display_name": "Python 3",
   "language": "python",
   "name": "python3"
  },
  "language_info": {
   "codemirror_mode": {
    "name": "ipython",
    "version": 3
   },
   "file_extension": ".py",
   "mimetype": "text/x-python",
   "name": "python",
   "nbconvert_exporter": "python",
   "pygments_lexer": "ipython3",
   "version": "3.7.3"
  }
 },
 "nbformat": 4,
 "nbformat_minor": 1
}
