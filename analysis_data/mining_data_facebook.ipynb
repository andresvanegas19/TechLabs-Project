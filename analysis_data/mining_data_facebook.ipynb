{
 "cells": [
  {
   "cell_type": "markdown",
   "metadata": {
    "pycharm": {
     "name": "#%% md\n"
    }
   },
   "source": [
    "# SEARCH THROUGHT FACEBOOK API"
   ]
  },
  {
   "cell_type": "markdown",
   "metadata": {
    "pycharm": {
     "name": "#%% md\n"
    }
   },
   "source": [
    "This notebook it will show how to capture data from facebook api"
   ]
  },
  {
   "cell_type": "code",
   "execution_count": 7,
   "metadata": {},
   "outputs": [
    {
     "ename": "ModuleNotFoundError",
     "evalue": "No module named 'facebook'",
     "output_type": "error",
     "traceback": [
      "\u001B[0;31m---------------------------------------------------------------------------\u001B[0m",
      "\u001B[0;31mModuleNotFoundError\u001B[0m                       Traceback (most recent call last)",
      "\u001B[0;32m<ipython-input-7-e5a958f148be>\u001B[0m in \u001B[0;36m<module>\u001B[0;34m\u001B[0m\n\u001B[1;32m      1\u001B[0m \u001B[0;32mimport\u001B[0m \u001B[0mjson\u001B[0m\u001B[0;34m\u001B[0m\u001B[0;34m\u001B[0m\u001B[0m\n\u001B[0;32m----> 2\u001B[0;31m \u001B[0;32mimport\u001B[0m \u001B[0mfacebook\u001B[0m\u001B[0;34m\u001B[0m\u001B[0;34m\u001B[0m\u001B[0m\n\u001B[0m\u001B[1;32m      3\u001B[0m \u001B[0;32mimport\u001B[0m \u001B[0mnumpy\u001B[0m \u001B[0;32mas\u001B[0m \u001B[0mnp\u001B[0m\u001B[0;34m\u001B[0m\u001B[0;34m\u001B[0m\u001B[0m\n\u001B[1;32m      4\u001B[0m \u001B[0;32mfrom\u001B[0m \u001B[0mpandas\u001B[0m \u001B[0;32mimport\u001B[0m \u001B[0mDataFrame\u001B[0m\u001B[0;34m\u001B[0m\u001B[0;34m\u001B[0m\u001B[0m\n\u001B[1;32m      5\u001B[0m \u001B[0;32mimport\u001B[0m \u001B[0mmatplotlib\u001B[0m\u001B[0;34m.\u001B[0m\u001B[0mpyplot\u001B[0m \u001B[0;32mas\u001B[0m \u001B[0mplt\u001B[0m\u001B[0;34m\u001B[0m\u001B[0;34m\u001B[0m\u001B[0m\n",
      "\u001B[0;31mModuleNotFoundError\u001B[0m: No module named 'facebook'"
     ]
    }
   ],
   "source": [
    "import json\n",
    "import facebook\n",
    "import numpy as np\n",
    "from pandas import DataFrame\n",
    "import matplotlib.pyplot as plt"
   ]
  },
  {
   "cell_type": "markdown",
   "metadata": {
    "pycharm": {
     "name": "#%% md\n"
    }
   },
   "source": [
    "## Here's the token, Facebook api"
   ]
  },
  {
   "cell_type": "code",
   "execution_count": 5,
   "metadata": {},
   "outputs": [],
   "source": [
    "token = 'None'"
   ]
  },
  {
   "cell_type": "code",
   "execution_count": 6,
   "metadata": {},
   "outputs": [
    {
     "ename": "NameError",
     "evalue": "name 'facebook' is not defined",
     "output_type": "error",
     "traceback": [
      "\u001B[0;31m---------------------------------------------------------------------------\u001B[0m",
      "\u001B[0;31mNameError\u001B[0m                                 Traceback (most recent call last)",
      "\u001B[0;32m<ipython-input-6-4df35896cb2e>\u001B[0m in \u001B[0;36m<module>\u001B[0;34m\u001B[0m\n\u001B[0;32m----> 1\u001B[0;31m \u001B[0mgraph\u001B[0m \u001B[0;34m=\u001B[0m \u001B[0mfacebook\u001B[0m\u001B[0;34m.\u001B[0m\u001B[0mGraphAPI\u001B[0m\u001B[0;34m(\u001B[0m\u001B[0mtoken\u001B[0m\u001B[0;34m)\u001B[0m\u001B[0;34m\u001B[0m\u001B[0;34m\u001B[0m\u001B[0m\n\u001B[0m\u001B[1;32m      2\u001B[0m \u001B[0;31m# We're accessing the api for information\u001B[0m\u001B[0;34m\u001B[0m\u001B[0;34m\u001B[0m\u001B[0;34m\u001B[0m\u001B[0m\n",
      "\u001B[0;31mNameError\u001B[0m: name 'facebook' is not defined"
     ]
    }
   ],
   "source": [
    "graph = facebook.GraphAPI(token)\n",
    "# We're accessing the api for information"
   ]
  },
  {
   "cell_type": "code",
   "execution_count": 10,
   "metadata": {},
   "outputs": [],
   "source": [
    "search = ['first_name', 'likes']\n",
    "profile = graph.get_object('me',fields='likes.limit(1000){category}')\n",
    "# This is for acces of each category\n",
    "\n",
    "# profile['likes']['data'][1]['category']\n",
    "\n",
    "categories = []\n",
    "\n",
    "for category in range(len(profile['likes']['data'])):\n",
    "    categories.append(profile['likes']['data'][category]['category'])\n"
   ]
  },
  {
   "cell_type": "code",
   "execution_count": 83,
   "metadata": {},
   "outputs": [
    {
     "data": {
      "text/plain": [
       "cat     3.558140+1.674419j\n",
       "num    93.139535+0.000000j\n",
       "dtype: complex128"
      ]
     },
     "execution_count": 83,
     "metadata": {},
     "output_type": "execute_result"
    }
   ],
   "source": [
    "# categories # this show the categories\n",
    "import seaborn as sns\n",
    "\n",
    "my_likes = DataFrame({'num': range(len(categories)), 'cat':categories})\n",
    "my_likes = my_likes.groupby('cat').sum().reset_index()\n",
    "likes_mean = my_likes.mean(skipna=False, axis=0)\n",
    "hola = my_likes.copy()\n",
    "likes_mean"
   ]
  },
  {
   "cell_type": "code",
   "execution_count": null,
   "metadata": {
    "pycharm": {
     "name": "#%%\n"
    }
   },
   "outputs": [],
   "source": [
    "import seaborn as sns\n",
    "\n",
    "my_likes = DataFrame({'num': range(len(categories)), 'cat':categories})\n",
    "# skipna exclude the None values\n",
    "my_likes = my_likes.groupby('cat').sum()\n",
    "\n",
    "# only chosee values up of the \n",
    "# wrong way\n",
    "#likes = my_likes[my_likes.apply(lambda x: x['num'] >= likes_mean, axis=1)]\n",
    "#likes = my_likes.loc[my_likes.num >= likes_mean]\n",
    "\n",
    "# good way\n",
    "likes = my_likes.copy()\n",
    "likes_mean = likes['num'].mean()\n",
    "likes = likes[likes.num >= likes_mean]\n",
    "likes = likes.reset_index()\n",
    "\n",
    "likes['id'] = range(len(likes))\n",
    "f, ax = plt.subplots(figsize=(17, 8))\n",
    "sns.set(style=\"whitegrid\")\n",
    "ax = sns.barplot(data=likes, x ='id', y='num')\n",
    "locs, labels = plt.xticks()\n",
    "ax.set(xlabel='THE CATEGORY', ylabel='THE NUMBER OF LIKES', title='GRAPHIC TO SHOW THE LIKES OF USER')\n",
    "      #xticks=list(likes['cat'].to_numpy()))#,xticks=likes['cat'])\n",
    "ax.set_xticklabels(list(likes['cat'].to_numpy()), rotation=30)\n",
    "#()\n",
    "plt.show()\n",
    "\n"
   ]
  },
  {
   "cell_type": "code",
   "execution_count": 1,
   "metadata": {},
   "outputs": [
    {
     "ename": "NameError",
     "evalue": "name 'DataFrame' is not defined",
     "output_type": "error",
     "traceback": [
      "\u001B[0;31m---------------------------------------------------------------------------\u001B[0m",
      "\u001B[0;31mNameError\u001B[0m                                 Traceback (most recent call last)",
      "\u001B[0;32m<ipython-input-1-23f439618688>\u001B[0m in \u001B[0;36m<module>\u001B[0;34m\u001B[0m\n\u001B[1;32m      1\u001B[0m \u001B[0;32mimport\u001B[0m \u001B[0mseaborn\u001B[0m \u001B[0;32mas\u001B[0m \u001B[0msns\u001B[0m\u001B[0;34m\u001B[0m\u001B[0;34m\u001B[0m\u001B[0m\n\u001B[1;32m      2\u001B[0m \u001B[0;34m\u001B[0m\u001B[0m\n\u001B[0;32m----> 3\u001B[0;31m \u001B[0mmy_likes\u001B[0m \u001B[0;34m=\u001B[0m \u001B[0mDataFrame\u001B[0m\u001B[0;34m(\u001B[0m\u001B[0;34m{\u001B[0m\u001B[0;34m'num'\u001B[0m\u001B[0;34m:\u001B[0m \u001B[0mrange\u001B[0m\u001B[0;34m(\u001B[0m\u001B[0mlen\u001B[0m\u001B[0;34m(\u001B[0m\u001B[0mcategories\u001B[0m\u001B[0;34m)\u001B[0m\u001B[0;34m)\u001B[0m\u001B[0;34m,\u001B[0m \u001B[0;34m'cat'\u001B[0m\u001B[0;34m:\u001B[0m\u001B[0mcategories\u001B[0m\u001B[0;34m}\u001B[0m\u001B[0;34m)\u001B[0m\u001B[0;34m\u001B[0m\u001B[0;34m\u001B[0m\u001B[0m\n\u001B[0m\u001B[1;32m      4\u001B[0m \u001B[0;31m# skipna exclude the None values\u001B[0m\u001B[0;34m\u001B[0m\u001B[0;34m\u001B[0m\u001B[0;34m\u001B[0m\u001B[0m\n\u001B[1;32m      5\u001B[0m \u001B[0mmy_likes\u001B[0m \u001B[0;34m=\u001B[0m \u001B[0mmy_likes\u001B[0m\u001B[0;34m.\u001B[0m\u001B[0mgroupby\u001B[0m\u001B[0;34m(\u001B[0m\u001B[0;34m'cat'\u001B[0m\u001B[0;34m)\u001B[0m\u001B[0;34m.\u001B[0m\u001B[0msum\u001B[0m\u001B[0;34m(\u001B[0m\u001B[0;34m)\u001B[0m\u001B[0;34m\u001B[0m\u001B[0;34m\u001B[0m\u001B[0m\n",
      "\u001B[0;31mNameError\u001B[0m: name 'DataFrame' is not defined"
     ]
    }
   ],
   "source": [
    "import seaborn as sns\n",
    "\n",
    "my_likes = DataFrame({'num': range(len(categories)), 'cat':categories})\n",
    "# skipna exclude the None values\n",
    "my_likes = my_likes.groupby('cat').sum()\n",
    "\n",
    "# only chosee values up of the \n",
    "# wrong way\n",
    "#likes = my_likes[my_likes.apply(lambda x: x['num'] >= likes_mean, axis=1)]\n",
    "#likes = my_likes.loc[my_likes.num >= likes_mean]\n",
    "\n",
    "# good way\n",
    "likes = my_likes.copy()\n",
    "likes_mean = likes['num'].mean()\n",
    "likes = likes[likes.num >= likes_mean]\n",
    "likes = likes.reset_index()\n",
    "\n",
    "likes['id'] = range(len(likes))\n",
    "f, ax = plt.subplots(figsize=(17, 8))\n",
    "sns.set(style=\"whitegrid\")\n",
    "ax = sns.barplot(data=likes, x ='id', y='num')\n",
    "locs, labels = plt.xticks()\n",
    "ax.set(xlabel='THE CATEGORY', ylabel='THE NUMBER OF LIKES', title='GRAPHIC TO SHOW THE LIKES OF USER')\n",
    "      #xticks=list(likes['cat'].to_numpy()))#,xticks=likes['cat'])\n",
    "ax.set_xticklabels(list(likes['cat'].to_numpy()), rotation=30)\n",
    "#()\n",
    "fig.savefig('graphics/face_gr')\n",
    "\n"
   ]
  },
  {
   "cell_type": "code",
   "execution_count": null,
   "metadata": {},
   "outputs": [],
   "source": []
  }
 ],
 "metadata": {
  "kernelspec": {
   "display_name": "Python 3",
   "language": "python",
   "name": "python3"
  },
  "language_info": {
   "codemirror_mode": {
    "name": "ipython",
    "version": 3
   },
   "file_extension": ".py",
   "mimetype": "text/x-python",
   "name": "python",
   "nbconvert_exporter": "python",
   "pygments_lexer": "ipython3",
   "version": "3.7.6"
  }
 },
 "nbformat": 4,
 "nbformat_minor": 1
}